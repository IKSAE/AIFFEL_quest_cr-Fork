{
  "nbformat": 4,
  "nbformat_minor": 0,
  "metadata": {
    "colab": {
      "provenance": [],
      "include_colab_link": true
    },
    "kernelspec": {
      "name": "python3",
      "display_name": "Python 3"
    },
    "language_info": {
      "name": "python"
    }
  },
  "cells": [
    {
      "cell_type": "markdown",
      "metadata": {
        "id": "view-in-github",
        "colab_type": "text"
      },
      "source": [
        "<a href=\"https://colab.research.google.com/github/tosm02/AIFFEL_quest_cr/blob/main/Python/Quest02/pythonQuest02.ipynb\" target=\"_parent\"><img src=\"https://colab.research.google.com/assets/colab-badge.svg\" alt=\"Open In Colab\"/></a>"
      ]
    },
    {
      "cell_type": "markdown",
      "source": [
        "Vocabulary란\n",
        "\n",
        "• 단어가 특정 정수와 매칭되어 있는 딕셔너리 형태의 단어장\n",
        "- 퀘스트: 문장을 입력받아서 정수로 리턴해주는 함수를 만들자!\n",
        "• 조건\n",
        "1. 텍스트 전처리를 수행한다.\n",
        "- Avengers.txt 파일을 불러온다.\n",
        "• 모든 문자는 소문자로 변환한다.\n",
        "- 모든 기호를 제거한다.\n",
        "- 단어 단위로 분리한다.\n",
        "• 결과:\n",
        "- \"I am hungry.very much..\" -> ['ї, 'am', 'hungry', 'very', 'much']\n",
        "2. 각 단어 별 빈도수를 딕셔너리 형태로 저장한다.\n",
        "3. 딕셔너리를 빈도수순으로 내림차순 정렬하고, 정렬 순서대로 정수 인덱스를 부여한다.\n",
        "4. 텍스트를 input()으로 입력받아서 정수를 return하는 함수를 만든다.\n"
      ],
      "metadata": {
        "id": "vurx_T-4SoGp"
      }
    },
    {
      "cell_type": "code",
      "source": [
        "# 정규 표현식을 지원하는 모듈.\n",
        "import re\n",
        "\n",
        "# 각 단어의 빈도수를 파악하기 위한 collections 모듈의 Counter 생성자.\n",
        "from collections import Counter\n",
        "\n",
        "# 전처리 과정을 수행하는 'preprocess_text' 함수 정의.\n",
        "def preprocess_text(text):\n",
        "  # 파일의 모든 문자를 소문자로 변환.\n",
        "  text = text.lower()\n",
        "  # 파일에서 영문자와 공백을 제외한 모든 기호를 제거.\n",
        "  text = re.sub(r'[^\\w\\s]', '', text)\n",
        "  # .split() 함수를 사용하여 공백을 기준으로 단어를 분리하는 words 변수 생성.\n",
        "  words = text.split()\n",
        "\n",
        "  # 앞에서의 모든 과정을 거친 결과물인 words 변수를 반환.\n",
        "  return words"
      ],
      "metadata": {
        "id": "IQhXlb0DSvI8"
      },
      "execution_count": null,
      "outputs": []
    },
    {
      "cell_type": "code",
      "source": [
        "# 함수 정의: 단어 빈도수 계산 및 딕셔너리 생성\n",
        "def frequency_words(words):\n",
        "  # 빈도수 계산\n",
        "  word_count = Counter(words)\n",
        "  # 각 단어별 빈도수를 딕셔너리 형태로 저장\n",
        "  word_count_dict = dict(word_count)\n",
        "\n",
        "  # 딕셔너리 반환\n",
        "  return word_count_dict, word_count"
      ],
      "metadata": {
        "id": "pLrP3VtdbVEP"
      },
      "execution_count": null,
      "outputs": []
    },
    {
      "cell_type": "code",
      "source": [
        "# 함수 정의: 딕셔너리를 빈도수순으로 내림차순 정렬하여 순서대로 정수 인덱스 부여\n",
        "def sort_index(word_count_dict,word_count):\n",
        "  # 빈도수 순으로 내림차순 정렬 & 정수 인덱스 부여한 딕셔너리 생성\n",
        "  word_count_index = {word: idx for idx, (word, _) in enumerate(word_count.most_common(), 1)}\n",
        "\n",
        "  return word_count_index # 빈도수순으로 정수 인덱스 부여된 딕셔너리 반환"
      ],
      "metadata": {
        "id": "4oXzv8WccYEL"
      },
      "execution_count": null,
      "outputs": []
    },
    {
      "cell_type": "code",
      "source": [
        "# 함수 정의: 텍스트를 input()으로 입력받아서 정수를 return\n",
        "def text_to_integers(input_text, vocabulary):\n",
        "    # 입력 텍스트 전처리\n",
        "    words = preprocess_text(input_text)\n",
        "    # 각 단어를 정수로 변환\n",
        "    return [vocabulary.get(word, -1) for word in words]  # 단어가 없으면 -1을 반환"
      ],
      "metadata": {
        "id": "0rWOHV0FieEF"
      },
      "execution_count": null,
      "outputs": []
    },
    {
      "cell_type": "code",
      "source": [
        "# 메인 실행 부분\n",
        "if __name__ == \"__main__\":\n",
        "    # Avengers.txt 파일을 열고 내용 읽기\n",
        "    with open(\"Avengers.txt\", \"r\") as file:\n",
        "        text = file.read()\n",
        "\n",
        "    # 텍스트 전처리 및 단어장 생성\n",
        "    words = preprocess_text(text)\n",
        "    word_count_dict, word_count = frequency_words(words)\n",
        "    vocabulary = sort_index(word_count_dict,word_count)\n",
        "\n",
        "    # 사용자로부터 입력받기\n",
        "    input_text = input(\"텍스트를 입력하세요: \")\n",
        "    integer_sequence = text_to_integers(input_text, vocabulary)\n",
        "\n",
        "    # 결과 출력\n",
        "    print(\"입력된 텍스트에 대한 정수 시퀀스:\", integer_sequence)"
      ],
      "metadata": {
        "colab": {
          "base_uri": "https://localhost:8080/"
        },
        "id": "MuwTsykqiePi",
        "outputId": "f2c87c19-91b5-43a2-fd91-3bb3cdcb21e8"
      },
      "execution_count": null,
      "outputs": [
        {
          "output_type": "stream",
          "name": "stdout",
          "text": [
            "텍스트를 입력하세요: i am hungry very much so much\n",
            "입력된 텍스트에 대한 정수 시퀀스: [3, 132, 1930, 203, 184, 57, 184]\n"
          ]
        }
      ]
    },
    {
      "cell_type": "markdown",
      "source": [
        "회고 - 최성호\n",
        "=============\n",
        "* 텍스트 전처리라는 기술 자체의 의미에 대해 제대로 알게 되었습니다.\n",
        "* C 언어와는 다른 main 함수의 기능을 하는 구조에 대해 알게 되었습니다. (if __name__ == \"__main__\":)  \n",
        "* 너무 많은 기능에 대한 코드를 새로 알게 되어 머릿 속이 조금 복잡하지만, 처음 배울 때 잘 해 놓는다면 괜찮지 않을까 하는 생각이 들었습니다.\n"
      ],
      "metadata": {
        "id": "o8-elgS11M63"
      }
    },
    {
      "cell_type": "markdown",
      "source": [
        "회고 - 박단영\n",
        "---\n",
        "* 첫번째 퀘스트보다 훨씬 복잡하고 어려워서 당황했습니다 하지만 chat gpt 와 짝궁의 도움을 받아 해낼 수 있었습니다!\n",
        "lms 에서 배웠던 내용 외의 것들을 적용시켜야 해서 시간이 오래 걸렸던 거 같지만 새로운 것들을 응용하면서 배울 수 있어서 뜻깊은 시간이었습니다\n",
        "* get 함수와 컴프리헨션을 직접 써보면서 이해할 수 있었습니다\n",
        "* enumerate를 활용해보고 Counter에 대해 알 수 있었습니다\n",
        "\n",
        "\n",
        "코드 셀 <QrAXNxBU2COo>\n",
        "# %% [code]"
      ],
      "metadata": {
        "id": "7zujQpLJ28KZ"
      }
    }
  ]
}